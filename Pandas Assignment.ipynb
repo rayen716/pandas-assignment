{
 "cells": [
  {
   "cell_type": "code",
   "execution_count": null,
   "id": "6031625d",
   "metadata": {},
   "outputs": [],
   "source": [
    "Q1. Create a Pandas Series that contains the following data: 4, 8, 15, 16, 23, and 42. Then, print the series?\n",
    "Ans1. import pandas as pd\n",
    "\n",
    "data = [4, 8, 15, 16, 23, 42]\n",
    "series = pd.Series(data)\n",
    "print(series)"
   ]
  },
  {
   "cell_type": "code",
   "execution_count": null,
   "id": "17ab0104",
   "metadata": {},
   "outputs": [],
   "source": [
    "Q2. Create a variable of list type containing 10 elements in it, and apply pandas.Series function on the variable print it?\n",
    "Ans2. import pandas as pd\n",
    "\n",
    "my_list = [1, 2, 3, 4, 5, 6, 7, 8, 9, 10]\n",
    "my_series = pd.Series(my_list)\n",
    "print(my_series)"
   ]
  },
  {
   "cell_type": "code",
   "execution_count": null,
   "id": "9e23e459",
   "metadata": {},
   "outputs": [],
   "source": [
    "Q3. Create a Pandas DataFrame that contains the following data:\n",
    "Then, print the DataFrame.\n",
    "Ans3. import pandas as pd\n",
    "\n",
    "data = {\n",
    "    'name': ['Alica', 'Bob', 'Claire',],\n",
    "    'age': [25, 30, 27],\n",
    "    'gender': ['Female', 'Male', 'Female']\n",
    "}\n",
    "\n",
    "df = pd.DataFrame(data)\n",
    "print(df)\n"
   ]
  },
  {
   "cell_type": "code",
   "execution_count": null,
   "id": "32afc994",
   "metadata": {},
   "outputs": [],
   "source": [
    "Q4. What is ‘DataFrame’ in pandas and how is it different from pandas.series? Explain with an example?\n",
    "Ans4. In Pandas, a DataFrame is a 2-dimensional labeled data structure with columns of potentially different types.\n",
    "A Series is a one-dimensional labeled array capable of holding data of any type. It is similar to a list or an array in Python, but with extra functionality such as indexing, alignment, and statistical operations.\n",
    "\n",
    "import pandas as pd\n",
    "\n",
    "data = {\n",
    "    'name': ['John', 'Emma', 'Mark', 'Rachel'],\n",
    "    'age': [25, 30, 22, 27],\n",
    "    'country': ['USA', 'Canada', 'UK', 'Australia']\n",
    "}\n",
    "df = pd.DataFrame(data)\n",
    "\n",
    "ages = pd.Series([25, 30, 22, 27])\n",
    "\n",
    "\n",
    "print(\"DataFrame:\")\n",
    "print(df)\n",
    "print(\"\\nSeries:\")\n",
    "print(ages)\n"
   ]
  },
  {
   "cell_type": "code",
   "execution_count": null,
   "id": "4d721af9",
   "metadata": {},
   "outputs": [],
   "source": [
    "Q5. What are some common functions you can use to manipulate data in a Pandas DataFrame? Can you give an example of when you might use one of these functions?\n",
    "Ans5. There are numerous functions in Pandas that can be used to manipulate data in a DataFrame. Some common functions include:\n",
    "\n",
    "head(): Returns the first n rows of a DataFrame. Useful for quickly previewing the data.\n",
    "df.head(10) \n",
    "\n",
    "tail(): Returns the last n rows of a DataFrame. Useful for quickly checking the data at the end.\n",
    "df.tail(10) \n",
    "\n",
    "drop(): Drops specified labels from rows or columns. Useful for removing unwanted data.\n",
    "df.drop('column_name', axis=1, inplace=True)\n",
    "    \n"
   ]
  },
  {
   "cell_type": "code",
   "execution_count": null,
   "id": "ef5e5685",
   "metadata": {},
   "outputs": [],
   "source": [
    "Q6. Which of the following is mutable in nature Series, DataFrame, Panel?\n",
    "Ans6. Both Series and DataFrame are mutable in nature, which means that their values can be modified after they have been created.\n",
    "\n",
    "However, Panel is an immutable data structure in Pandas, which means that it cannot be modified after it has been created. Panel is a three-dimensional data structure and is generally not recommended for most data analysis tasks. Instead, it is recommended to use the more commonly used Series and DataFrame data structures."
   ]
  },
  {
   "cell_type": "code",
   "execution_count": null,
   "id": "59c10e72",
   "metadata": {},
   "outputs": [],
   "source": [
    "Q7. Create a DataFrame using multiple Series. Explain with an example?\n",
    "Ans7. import pandas as pd\n",
    "\n",
    "# Create two Series with data\n",
    "names = pd.Series(['Alice', 'Bob', 'Charlie', 'Dave'])\n",
    "ages = pd.Series([25, 30, 35, 40])\n",
    "\n",
    "# Create a DataFrame using the two Series\n",
    "df = pd.DataFrame({'Name': names, 'Age': ages})\n",
    "\n",
    "print(df)"
   ]
  }
 ],
 "metadata": {
  "kernelspec": {
   "display_name": "Python 3 (ipykernel)",
   "language": "python",
   "name": "python3"
  },
  "language_info": {
   "codemirror_mode": {
    "name": "ipython",
    "version": 3
   },
   "file_extension": ".py",
   "mimetype": "text/x-python",
   "name": "python",
   "nbconvert_exporter": "python",
   "pygments_lexer": "ipython3",
   "version": "3.9.13"
  }
 },
 "nbformat": 4,
 "nbformat_minor": 5
}
